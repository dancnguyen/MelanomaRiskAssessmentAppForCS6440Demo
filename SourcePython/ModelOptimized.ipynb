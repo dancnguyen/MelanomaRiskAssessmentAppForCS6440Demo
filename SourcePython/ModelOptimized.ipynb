{
 "cells": [
  {
   "cell_type": "code",
   "execution_count": 1,
   "metadata": {},
   "outputs": [],
   "source": [
    "import tensorflow as tf\n",
    "import numpy as np\n",
    "from tensorflow import keras\n",
    "from tensorflow.keras import layers\n",
    "from tensorflow.keras.models import Sequential\n",
    "from keras import callbacks"
   ]
  },
  {
   "cell_type": "code",
   "execution_count": 2,
   "metadata": {},
   "outputs": [],
   "source": [
    "dataFolder = 'C:\\Temp\\ISIC_Data'\n",
    "testingFolder = 'C:\\Temp\\Test_Dataset'\n",
    "imageWidth = 256\n",
    "imageHeight = 256\n",
    "batchSize = 32"
   ]
  },
  {
   "cell_type": "code",
   "execution_count": 3,
   "metadata": {},
   "outputs": [
    {
     "name": "stdout",
     "output_type": "stream",
     "text": [
      "Found 36347 files belonging to 2 classes.\n",
      "Using 32309 files for training.\n"
     ]
    }
   ],
   "source": [
    "trainingDataSet = tf.keras.utils.image_dataset_from_directory(dataFolder, validation_split=0.1111, subset=\"training\", seed=312, batch_size=batchSize, image_size=(imageWidth, imageHeight))"
   ]
  },
  {
   "cell_type": "code",
   "execution_count": 4,
   "metadata": {},
   "outputs": [
    {
     "name": "stdout",
     "output_type": "stream",
     "text": [
      "Found 36347 files belonging to 2 classes.\n",
      "Using 4038 files for validation.\n"
     ]
    }
   ],
   "source": [
    "validationDataSet = tf.keras.utils.image_dataset_from_directory(dataFolder, validation_split=0.1111, subset=\"validation\", seed=312, batch_size=batchSize, image_size=(imageWidth, imageHeight))"
   ]
  },
  {
   "cell_type": "code",
   "execution_count": 5,
   "metadata": {},
   "outputs": [
    {
     "name": "stdout",
     "output_type": "stream",
     "text": [
      "Found 4039 files belonging to 2 classes.\n"
     ]
    }
   ],
   "source": [
    "testingDataSet = tf.keras.utils.image_dataset_from_directory(testingFolder, seed=123, batch_size=batchSize, image_size=(imageWidth, imageHeight))"
   ]
  },
  {
   "cell_type": "code",
   "execution_count": 6,
   "metadata": {},
   "outputs": [
    {
     "name": "stdout",
     "output_type": "stream",
     "text": [
      "['BENIGN', 'MALIGNANT_MELANOMA']\n",
      "['BENIGN', 'MALIGNANT_MELANOMA']\n",
      "['BENIGN', 'MALIGNANT_MELANOMA']\n",
      "(32, 256, 256, 3)\n",
      "(32, 256, 256, 3)\n",
      "(32, 256, 256, 3)\n"
     ]
    }
   ],
   "source": [
    "trainingClasses = trainingDataSet.class_names\n",
    "validationClasses = validationDataSet.class_names\n",
    "testingClasses = testingDataSet.class_names\n",
    "print(trainingClasses)\n",
    "print(validationClasses)\n",
    "print(testingClasses)\n",
    "counter = 0\n",
    "for imageBatch, labelsBatch in trainingDataSet:\n",
    "    print(imageBatch.shape)\n",
    "    break\n",
    "for imageBatch, labelsBatch in validationDataSet:\n",
    "    print(imageBatch.shape)\n",
    "    break\n",
    "for imageBatch, labelsBatch in testingDataSet:\n",
    "    print(imageBatch.shape)\n",
    "    break"
   ]
  },
  {
   "cell_type": "code",
   "execution_count": 7,
   "metadata": {},
   "outputs": [],
   "source": [
    "trainingDataSet = trainingDataSet.cache().shuffle(buffer_size=1000).prefetch(buffer_size=tf.data.AUTOTUNE)\n",
    "validationDataSet = validationDataSet.cache().shuffle(buffer_size=1000).prefetch(buffer_size=tf.data.AUTOTUNE)"
   ]
  },
  {
   "cell_type": "code",
   "execution_count": 8,
   "metadata": {},
   "outputs": [
    {
     "name": "stdout",
     "output_type": "stream",
     "text": [
      "1010\n",
      "127\n"
     ]
    }
   ],
   "source": [
    "print(tf.data.experimental.cardinality(trainingDataSet).numpy())\n",
    "print(tf.data.experimental.cardinality(validationDataSet).numpy())"
   ]
  },
  {
   "cell_type": "code",
   "execution_count": 9,
   "metadata": {},
   "outputs": [
    {
     "name": "stdout",
     "output_type": "stream",
     "text": [
      "1010\n",
      "127\n",
      "127\n"
     ]
    }
   ],
   "source": [
    "print(tf.data.experimental.cardinality(trainingDataSet).numpy())\n",
    "print(tf.data.experimental.cardinality(validationDataSet).numpy())\n",
    "print(tf.data.experimental.cardinality(testingDataSet).numpy())"
   ]
  },
  {
   "cell_type": "code",
   "execution_count": 10,
   "metadata": {},
   "outputs": [],
   "source": [
    "dataAugmentation = Sequential(\n",
    "    [\n",
    "        layers.RandomFlip(\"horizontal_and_vertical\", input_shape=(imageWidth, imageHeight, 3)),\n",
    "        layers.RandomZoom(0.2),\n",
    "        layers.RandomRotation(0.2)\n",
    "    ]\n",
    ")"
   ]
  },
  {
   "cell_type": "code",
   "execution_count": 11,
   "metadata": {},
   "outputs": [],
   "source": [
    "model = Sequential(\n",
    "    [\n",
    "        dataAugmentation,\n",
    "        layers.Rescaling(1./255),\n",
    "        layers.Conv2D(16, 3, padding='same', activation='relu'),\n",
    "        layers.MaxPooling2D(),\n",
    "        layers.Conv2D(32, 3, padding='same', activation='relu'),\n",
    "        layers.MaxPooling2D(),\n",
    "        layers.Conv2D(64, 3, padding='same', activation='relu'),\n",
    "        layers.MaxPooling2D(),\n",
    "        layers.Dropout(0.2),\n",
    "        layers.Flatten(),\n",
    "        layers.Dense(128, activation='relu'),\n",
    "        layers.Dense(2)\n",
    "    ]\n",
    ")"
   ]
  },
  {
   "cell_type": "code",
   "execution_count": 12,
   "metadata": {},
   "outputs": [],
   "source": [
    "model.compile(optimizer='adam', loss=tf.keras.losses.SparseCategoricalCrossentropy(from_logits=True), metrics=['accuracy'])"
   ]
  },
  {
   "cell_type": "code",
   "execution_count": 13,
   "metadata": {},
   "outputs": [
    {
     "name": "stdout",
     "output_type": "stream",
     "text": [
      "Model: \"sequential_1\"\n",
      "_________________________________________________________________\n",
      " Layer (type)                Output Shape              Param #   \n",
      "=================================================================\n",
      " sequential (Sequential)     (None, 256, 256, 3)       0         \n",
      "                                                                 \n",
      " rescaling (Rescaling)       (None, 256, 256, 3)       0         \n",
      "                                                                 \n",
      " conv2d (Conv2D)             (None, 256, 256, 16)      448       \n",
      "                                                                 \n",
      " max_pooling2d (MaxPooling2D  (None, 128, 128, 16)     0         \n",
      " )                                                               \n",
      "                                                                 \n",
      " conv2d_1 (Conv2D)           (None, 128, 128, 32)      4640      \n",
      "                                                                 \n",
      " max_pooling2d_1 (MaxPooling  (None, 64, 64, 32)       0         \n",
      " 2D)                                                             \n",
      "                                                                 \n",
      " conv2d_2 (Conv2D)           (None, 64, 64, 64)        18496     \n",
      "                                                                 \n",
      " max_pooling2d_2 (MaxPooling  (None, 32, 32, 64)       0         \n",
      " 2D)                                                             \n",
      "                                                                 \n",
      " dropout (Dropout)           (None, 32, 32, 64)        0         \n",
      "                                                                 \n",
      " flatten (Flatten)           (None, 65536)             0         \n",
      "                                                                 \n",
      " dense (Dense)               (None, 128)               8388736   \n",
      "                                                                 \n",
      " dense_1 (Dense)             (None, 2)                 258       \n",
      "                                                                 \n",
      "=================================================================\n",
      "Total params: 8,412,578\n",
      "Trainable params: 8,412,578\n",
      "Non-trainable params: 0\n",
      "_________________________________________________________________\n"
     ]
    }
   ],
   "source": [
    "model.summary()"
   ]
  },
  {
   "cell_type": "code",
   "execution_count": 14,
   "metadata": {},
   "outputs": [],
   "source": [
    "epochStop = callbacks.EarlyStopping(monitor=\"val_loss\", mode=\"min\", patience=5, restore_best_weights=True)"
   ]
  },
  {
   "cell_type": "code",
   "execution_count": 15,
   "metadata": {},
   "outputs": [
    {
     "name": "stdout",
     "output_type": "stream",
     "text": [
      "Epoch 1/30\n",
      "1010/1010 [==============================] - 668s 526ms/step - loss: 0.2923 - accuracy: 0.8947 - val_loss: 0.3060 - val_accuracy: 0.8893\n",
      "Epoch 2/30\n",
      "1010/1010 [==============================] - 527s 522ms/step - loss: 0.2610 - accuracy: 0.9017 - val_loss: 0.2568 - val_accuracy: 0.9024\n",
      "Epoch 3/30\n",
      "1010/1010 [==============================] - 524s 518ms/step - loss: 0.2505 - accuracy: 0.9050 - val_loss: 0.2688 - val_accuracy: 0.8945\n",
      "Epoch 4/30\n",
      "1010/1010 [==============================] - 519s 514ms/step - loss: 0.2451 - accuracy: 0.9063 - val_loss: 0.2359 - val_accuracy: 0.9086\n",
      "Epoch 5/30\n",
      "1010/1010 [==============================] - 517s 512ms/step - loss: 0.2383 - accuracy: 0.9084 - val_loss: 0.2422 - val_accuracy: 0.9101\n",
      "Epoch 6/30\n",
      "1010/1010 [==============================] - 516s 511ms/step - loss: 0.2311 - accuracy: 0.9117 - val_loss: 0.2341 - val_accuracy: 0.9079\n",
      "Epoch 7/30\n",
      "1010/1010 [==============================] - 514s 509ms/step - loss: 0.2275 - accuracy: 0.9110 - val_loss: 0.2234 - val_accuracy: 0.9118\n",
      "Epoch 8/30\n",
      "1010/1010 [==============================] - 507s 502ms/step - loss: 0.2218 - accuracy: 0.9132 - val_loss: 0.2294 - val_accuracy: 0.9138\n",
      "Epoch 9/30\n",
      "1010/1010 [==============================] - 505s 500ms/step - loss: 0.2191 - accuracy: 0.9160 - val_loss: 0.2287 - val_accuracy: 0.9158\n",
      "Epoch 10/30\n",
      "1010/1010 [==============================] - 505s 500ms/step - loss: 0.2183 - accuracy: 0.9152 - val_loss: 0.2303 - val_accuracy: 0.9141\n",
      "Epoch 11/30\n",
      "1010/1010 [==============================] - 507s 502ms/step - loss: 0.2163 - accuracy: 0.9156 - val_loss: 0.2176 - val_accuracy: 0.9138\n",
      "Epoch 12/30\n",
      "1010/1010 [==============================] - 517s 511ms/step - loss: 0.2129 - accuracy: 0.9182 - val_loss: 0.2168 - val_accuracy: 0.9153\n",
      "Epoch 13/30\n",
      "1010/1010 [==============================] - 517s 512ms/step - loss: 0.2144 - accuracy: 0.9164 - val_loss: 0.2241 - val_accuracy: 0.9108\n",
      "Epoch 14/30\n",
      "1010/1010 [==============================] - 512s 507ms/step - loss: 0.2091 - accuracy: 0.9182 - val_loss: 0.2118 - val_accuracy: 0.9180\n",
      "Epoch 15/30\n",
      "1010/1010 [==============================] - 515s 510ms/step - loss: 0.2083 - accuracy: 0.9190 - val_loss: 0.2115 - val_accuracy: 0.9208\n",
      "Epoch 16/30\n",
      "1010/1010 [==============================] - 520s 515ms/step - loss: 0.2070 - accuracy: 0.9198 - val_loss: 0.2150 - val_accuracy: 0.9163\n",
      "Epoch 17/30\n",
      "1010/1010 [==============================] - 515s 510ms/step - loss: 0.2065 - accuracy: 0.9212 - val_loss: 0.2192 - val_accuracy: 0.9175\n",
      "Epoch 18/30\n",
      "1010/1010 [==============================] - 515s 510ms/step - loss: 0.2093 - accuracy: 0.9199 - val_loss: 0.2156 - val_accuracy: 0.9180\n",
      "Epoch 19/30\n",
      "1010/1010 [==============================] - 511s 505ms/step - loss: 0.2062 - accuracy: 0.9199 - val_loss: 0.2131 - val_accuracy: 0.9225\n",
      "Epoch 20/30\n",
      "1010/1010 [==============================] - 515s 510ms/step - loss: 0.2053 - accuracy: 0.9209 - val_loss: 0.2125 - val_accuracy: 0.9215\n"
     ]
    }
   ],
   "source": [
    "modelTraining = model.fit(trainingDataSet, validation_data=validationDataSet, epochs=30, callbacks=[epochStop])"
   ]
  },
  {
   "cell_type": "code",
   "execution_count": 16,
   "metadata": {},
   "outputs": [],
   "source": [
    "model.save('C:\\Temp\\ModelH5\\MelanomaModelOptimized.h5')"
   ]
  },
  {
   "cell_type": "code",
   "execution_count": 17,
   "metadata": {},
   "outputs": [],
   "source": [
    "model.save_weights('C:\\Temp\\ModelH5\\WeightsOptimized\\MelanomaModelWeightsOptimized')"
   ]
  },
  {
   "cell_type": "code",
   "execution_count": 18,
   "metadata": {},
   "outputs": [
    {
     "name": "stdout",
     "output_type": "stream",
     "text": [
      "127/127 [==============================] - 22s 166ms/step - loss: 0.3905 - accuracy: 0.8289\n"
     ]
    }
   ],
   "source": [
    "modelLoss, modelAccuracy = model.evaluate(testingDataSet)"
   ]
  },
  {
   "cell_type": "code",
   "execution_count": 19,
   "metadata": {},
   "outputs": [
    {
     "name": "stdout",
     "output_type": "stream",
     "text": [
      "Test Accuracy:  0.8289180397987366\n",
      "Test Loss 0.3904760479927063\n"
     ]
    }
   ],
   "source": [
    "print('Test Accuracy: ', modelAccuracy)\n",
    "print('Test Loss', modelLoss)"
   ]
  }
 ],
 "metadata": {
  "interpreter": {
   "hash": "ff1ca52f03dd374beae02420376620fba1d2dde525ea6bcc4ae4f396b2ec3aad"
  },
  "kernelspec": {
   "display_name": "Python 3.10.2 64-bit",
   "language": "python",
   "name": "python3"
  },
  "language_info": {
   "codemirror_mode": {
    "name": "ipython",
    "version": 3
   },
   "file_extension": ".py",
   "mimetype": "text/x-python",
   "name": "python",
   "nbconvert_exporter": "python",
   "pygments_lexer": "ipython3",
   "version": "3.10.2"
  },
  "orig_nbformat": 4
 },
 "nbformat": 4,
 "nbformat_minor": 2
}
